{
 "cells": [
  {
   "cell_type": "markdown",
   "id": "bb3b1ad4",
   "metadata": {},
   "source": [
    "### Needed Imports"
   ]
  },
  {
   "cell_type": "code",
   "execution_count": 1,
   "id": "5c8ea2b6",
   "metadata": {},
   "outputs": [],
   "source": [
    "import mysql.connector\n",
    "from mysql.connector import Error"
   ]
  },
  {
   "cell_type": "markdown",
   "id": "80feeb9b",
   "metadata": {},
   "source": [
    "Code Reference: https://pynative.com/python-mysql-database-connection/"
   ]
  },
  {
   "cell_type": "markdown",
   "id": "56371aa3",
   "metadata": {},
   "source": [
    "#### Variables for DB Connection"
   ]
  },
  {
   "cell_type": "code",
   "execution_count": 2,
   "id": "bfaf2de9",
   "metadata": {},
   "outputs": [],
   "source": [
    "# variables\n",
    "\n",
    "host = \"localhost\"\n",
    "database = \"demo\"\n",
    "userdb = \"root\"\n",
    "password = \"\""
   ]
  },
  {
   "cell_type": "markdown",
   "id": "04a172dc",
   "metadata": {},
   "source": [
    "#### Inserting to DB"
   ]
  },
  {
   "cell_type": "code",
   "execution_count": 3,
   "id": "d754a186",
   "metadata": {},
   "outputs": [
    {
     "name": "stdout",
     "output_type": "stream",
     "text": [
      "Record inserted\n",
      "MySQL connection is closed\n"
     ]
    }
   ],
   "source": [
    "try:\n",
    "    connection = mysql.connector.connect(host = host,\n",
    "                                         database = database,\n",
    "                                         user = userdb,\n",
    "                                         password = password)\n",
    "    \n",
    "    query = \"\"\"INSERT INTO user(fname, lname, mname, username, password, user_status)\n",
    "                VALUES('Sabine', 'Callas', 'Unknown', 'Viper', 'Bind', 1)\"\"\"\n",
    "        \n",
    "    cursor = connection.cursor()\n",
    "    result = cursor.execute(query)\n",
    "    \n",
    "    connection.commit() # commit query\n",
    "    \n",
    "    cursor.close()\n",
    "    print(\"Record inserted\")\n",
    "\n",
    "\n",
    "except mysql.connector.Error as err:\n",
    "    print(\"Failed to insert record into Laptop table {}\".format(err))\n",
    "    \n",
    "finally:\n",
    "    if connection.is_connected(): # closing connection after use\n",
    "        connection.close()\n",
    "        print(\"MySQL connection is closed\")"
   ]
  },
  {
   "cell_type": "markdown",
   "id": "f981998e",
   "metadata": {},
   "source": [
    "#### Inserting multiple rows"
   ]
  },
  {
   "cell_type": "code",
   "execution_count": 4,
   "id": "618f72f6",
   "metadata": {},
   "outputs": [
    {
     "name": "stdout",
     "output_type": "stream",
     "text": [
      "Record inserted\n",
      "MySQL connection now is closed\n"
     ]
    }
   ],
   "source": [
    "try:\n",
    "    connection = mysql.connector.connect(host = host,\n",
    "                                         database = database,\n",
    "                                         user = userdb,\n",
    "                                         password = password)\n",
    "    \n",
    "    query = \"\"\"INSERT INTO user(fname, lname, mname, username, password, user_status)\n",
    "                VALUES(%s, %s, %s, %s, %s, %s)\"\"\"\n",
    "    data = [('Klara', 'Böhringer', 'Unknown', 'Killjoy', 'Haven', 1),\n",
    "            ('Tala Nicole', 'Valdez', 'Dimaapi', 'Neon', 'Icebox', 1)]\n",
    "        \n",
    "    cursor = connection.cursor()\n",
    "    result = cursor.executemany(query, data)\n",
    "    \n",
    "    connection.commit() # commit query\n",
    "    \n",
    "    cursor.close()\n",
    "    print(\"Record inserted\")\n",
    "\n",
    "except mysql.connector.Error as err:\n",
    "    print(\"Failed to insert record into Laptop table {}\".format(err))\n",
    "    \n",
    "finally:\n",
    "    if connection.is_connected(): # closing connection after use\n",
    "        connection.close()\n",
    "        print(\"MySQL connection now is closed\")"
   ]
  },
  {
   "cell_type": "markdown",
   "id": "0d942184",
   "metadata": {},
   "source": [
    "#### Selecting data"
   ]
  },
  {
   "cell_type": "code",
   "execution_count": 5,
   "id": "38aaaeda",
   "metadata": {},
   "outputs": [
    {
     "name": "stdout",
     "output_type": "stream",
     "text": [
      "Total number of rows in table:  3\n",
      "\n",
      "Printing each row\n",
      "user_id =  1\n",
      "username =  Viper\n",
      "fname  =  Sabine\n",
      "lname  =  Unknown \n",
      "\n",
      "user_id =  2\n",
      "username =  Killjoy\n",
      "fname  =  Klara\n",
      "lname  =  Unknown \n",
      "\n",
      "user_id =  3\n",
      "username =  Neon\n",
      "fname  =  Tala Nicole\n",
      "lname  =  Dimaapi \n",
      "\n",
      "MySQL connection now is closed\n"
     ]
    }
   ],
   "source": [
    "try:\n",
    "    connection = mysql.connector.connect(host = host,\n",
    "                                         database = database,\n",
    "                                         user = userdb,\n",
    "                                         password = password)\n",
    "    \n",
    "    query = \"\"\"SELECT * FROM user\"\"\"\n",
    "        \n",
    "    cursor = connection.cursor()\n",
    "    result = cursor.execute(query)\n",
    "    \n",
    "    # get all records\n",
    "    records = cursor.fetchall()\n",
    "    print(\"Total number of rows in table: \", cursor.rowcount)\n",
    "\n",
    "    print(\"\\nPrinting each row\")\n",
    "    for row in records:\n",
    "        print(\"user_id = \", row[0], )\n",
    "        print(\"username = \", row[1])\n",
    "        print(\"fname  = \", row[3])\n",
    "        print(\"lname  = \", row[4], \"\\n\")\n",
    "\n",
    "except mysql.connector.Error as err:\n",
    "    print(\"Failed to insert record into Laptop table {}\".format(err))\n",
    "    \n",
    "finally:\n",
    "    if connection.is_connected(): # closing connection after use\n",
    "        connection.close()\n",
    "        cursor.close()\n",
    "        print(\"MySQL connection now is closed\")"
   ]
  },
  {
   "cell_type": "code",
   "execution_count": null,
   "id": "2f23e304",
   "metadata": {},
   "outputs": [],
   "source": []
  }
 ],
 "metadata": {
  "kernelspec": {
   "display_name": "Python 3 (ipykernel)",
   "language": "python",
   "name": "python3"
  },
  "language_info": {
   "codemirror_mode": {
    "name": "ipython",
    "version": 3
   },
   "file_extension": ".py",
   "mimetype": "text/x-python",
   "name": "python",
   "nbconvert_exporter": "python",
   "pygments_lexer": "ipython3",
   "version": "3.9.12"
  }
 },
 "nbformat": 4,
 "nbformat_minor": 5
}
